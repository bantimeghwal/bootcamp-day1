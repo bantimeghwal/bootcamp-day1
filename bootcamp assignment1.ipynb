{
 "cells": [
  {
   "cell_type": "code",
   "execution_count": 2,
   "id": "fadd4cbc",
   "metadata": {},
   "outputs": [
    {
     "name": "stdout",
     "output_type": "stream",
     "text": [
      "PAHNAPLSIIGYIR\n"
     ]
    }
   ],
   "source": [
    "#. Convert a string to a zigzag pattern on a given number of rows and then read it row by row.\n",
    "   #- Input: s = \"PAYPALISHIRING\", numRows = 3\n",
    "def convert_to_zigzag(s: str, numRows: int) -> str:\n",
    "    if numRows == 1 or numRows >= len(s):\n",
    "        return s\n",
    "    \n",
    "    rows = [''] * numRows\n",
    "    current_row = 0\n",
    "    direction = -1\n",
    "\n",
    "    for char in s:\n",
    "        rows[current_row] += char\n",
    "        if current_row == 0 or current_row == numRows - 1:\n",
    "            direction *= -1\n",
    "        current_row += direction\n",
    "\n",
    "    return ''.join(rows)\n",
    "\n",
    "s = \"PAYPALISHIRING\"\n",
    "numRows = 3\n",
    "result = convert_to_zigzag(s, numRows)\n",
    "print(result)\n",
    "\n"
   ]
  },
  {
   "cell_type": "code",
   "execution_count": 15,
   "id": "3a5faacb",
   "metadata": {},
   "outputs": [
    {
     "ename": "IndentationError",
     "evalue": "unexpected indent (822989432.py, line 3)",
     "output_type": "error",
     "traceback": [
      "\u001b[1;36m  File \u001b[1;32m\"C:\\Users\\user\\AppData\\Local\\Temp\\ipykernel_15372\\822989432.py\"\u001b[1;36m, line \u001b[1;32m3\u001b[0m\n\u001b[1;33m    def compress_string(s: str) -> str:\u001b[0m\n\u001b[1;37m    ^\u001b[0m\n\u001b[1;31mIndentationError\u001b[0m\u001b[1;31m:\u001b[0m unexpected indent\n"
     ]
    }
   ],
   "source": [
    "#Implement a method to perform basic string compression using the counts of repeated characters.\n",
    "#- Input: \"aabcccccaaa\"\n",
    "    def compress_string(s: str) -> str:\n",
    "    compressed = []\n",
    "    count = 1\n",
    "\n",
    "    for i in range(1, len(s)):\n",
    "        if s[i] == s[i - 1]:\n",
    "            count += 1\n",
    "        else:\n",
    "            compressed.append(s[i - 1] + str(count))\n",
    "            count = 1\n",
    "\n",
    "    compressed.append(s[-1] + str(count))\n",
    "    \n",
    "    result = ''.join(compressed)\n",
    "    \n",
    "    return result if len(result) < len(s) else s\n",
    "\n",
    "# Example usage\n",
    "s = \"aabcccccaaa\"\n",
    "result = compress_string(s)\n",
    "print(result)\n"
   ]
  },
  {
   "cell_type": "code",
   "execution_count": 17,
   "id": "bb445412",
   "metadata": {},
   "outputs": [
    {
     "name": "stdout",
     "output_type": "stream",
     "text": [
      "['ABC', 'ACB', 'BAC', 'BCA', 'CAB', 'CBA']\n"
     ]
    }
   ],
   "source": [
    "# Q3Write a function that generates all possible permutations of a given string.\n",
    "   #- Input: \"ABC\"\n",
    "\n",
    "from itertools import permutations\n",
    "\n",
    "def generate_permutations(s: str):\n",
    "    return [''.join(p) for p in permutations(s)]\n",
    "\n",
    "# Example usage\n",
    "s = \"ABC\"\n",
    "result = generate_permutations(s)\n",
    "print(result)\n"
   ]
  },
  {
   "cell_type": "code",
   "execution_count": 19,
   "id": "69b30499",
   "metadata": {},
   "outputs": [
    {
     "ename": "SyntaxError",
     "evalue": "invalid syntax (3519329312.py, line 1)",
     "output_type": "error",
     "traceback": [
      "\u001b[1;36m  File \u001b[1;32m\"C:\\Users\\user\\AppData\\Local\\Temp\\ipykernel_15372\\3519329312.py\"\u001b[1;36m, line \u001b[1;32m1\u001b[0m\n\u001b[1;33m    Given an array of strings, group anagrams together.\u001b[0m\n\u001b[1;37m          ^\u001b[0m\n\u001b[1;31mSyntaxError\u001b[0m\u001b[1;31m:\u001b[0m invalid syntax\n"
     ]
    }
   ],
   "source": [
    "Given an array of strings, group anagrams together.\n",
    "   - Input: [\"eat\", \"tea\", \"tan\", \"ate\", \"nat\", \"bat\"]\n"
   ]
  },
  {
   "cell_type": "code",
   "execution_count": 20,
   "id": "e49d57da",
   "metadata": {},
   "outputs": [
    {
     "name": "stdout",
     "output_type": "stream",
     "text": [
      "[['eat', 'tea', 'ate'], ['tan', 'nat'], ['bat']]\n"
     ]
    }
   ],
   "source": [
    "#Q4Given an array of strings, group anagrams together.\n",
    "   #- Input: [\"eat\", \"tea\", \"tan\", \"ate\", \"nat\", \"bat\"]\n",
    "\n",
    "\n",
    "from collections import defaultdict\n",
    "\n",
    "def group_anagrams(strs):\n",
    "    anagrams = defaultdict(list)\n",
    "\n",
    "    for word in strs:\n",
    "        sorted_word = ''.join(sorted(word))\n",
    "        anagrams[sorted_word].append(word)\n",
    "\n",
    "    return list(anagrams.values())\n",
    "\n",
    "# Example usage\n",
    "input_list = [\"eat\", \"tea\", \"tan\", \"ate\", \"nat\", \"bat\"]\n",
    "result = group_anagrams(input_list)\n",
    "print(result)\n"
   ]
  },
  {
   "cell_type": "code",
   "execution_count": 22,
   "id": "e034d1c7",
   "metadata": {},
   "outputs": [
    {
     "name": "stdout",
     "output_type": "stream",
     "text": [
      "56088\n"
     ]
    }
   ],
   "source": [
    "#Q5. Write a function to multiply two large numbers represented as strings.\n",
    "  # - Input: num1 = \"123\", num2 = \"456\"\n",
    "\n",
    "\n",
    "def multiply_strings(num1: str, num2: str) -> str:\n",
    "    if num1 == \"0\" or num2 == \"0\":\n",
    "        return \"0\"\n",
    "\n",
    "    result = [0] * (len(num1) + len(num2))\n",
    "\n",
    "    num1, num2 = num1[::-1], num2[::-1]\n",
    "\n",
    "    for i in range(len(num1)):\n",
    "        for j in range(len(num2)):\n",
    "            product = int(num1[i]) * int(num2[j])\n",
    "            result[i + j] += product\n",
    "            result[i + j + 1] += result[i + j] // 10\n",
    "            result[i + j] %= 10\n",
    "\n",
    "    while len(result) > 1 and result[-1] == 0:\n",
    "        result.pop()\n",
    "\n",
    "    return ''.join(map(str, result[::-1]))\n",
    "\n",
    "# Example usage\n",
    "num1 = \"123\"\n",
    "num2 = \"456\"\n",
    "result = multiply_strings(num1, num2)\n",
    "print(result)\n"
   ]
  },
  {
   "cell_type": "code",
   "execution_count": 23,
   "id": "dde889ee",
   "metadata": {},
   "outputs": [
    {
     "name": "stdout",
     "output_type": "stream",
     "text": [
      "True\n"
     ]
    }
   ],
   "source": [
    "#Q6Given two strings, check if one is a rotation of the other using only one call to a string method.\n",
    "   #- Input: str1 = \"ABCD\", str2 = \"DABC\"\n",
    "\n",
    "\n",
    "\n",
    "def is_rotation(str1: str, str2: str) -> bool:\n",
    "    if len(str1) != len(str2):\n",
    "        return False\n",
    "    return str2 in (str1 + str1)\n",
    "\n",
    "# Example usage\n",
    "str1 = \"ABCD\"\n",
    "str2 = \"DABC\"\n",
    "result = is_rotation(str1, str2)\n",
    "print(result) \n"
   ]
  },
  {
   "cell_type": "code",
   "execution_count": 24,
   "id": "3c537eb5",
   "metadata": {},
   "outputs": [
    {
     "name": "stdout",
     "output_type": "stream",
     "text": [
      "True\n"
     ]
    }
   ],
   "source": [
    "#Q7. Given a string containing just the characters (, ), {, }, [, and ], determine if the input string is valid.\n",
    "   #- Input: \"()[]{}\"\n",
    "\n",
    "\n",
    "def is_valid(s: str) -> bool:\n",
    "    stack = []\n",
    "    bracket_map = {')': '(', '}': '{', ']': '['}\n",
    "\n",
    "    for char in s:\n",
    "        if char in bracket_map.values():  \n",
    "            stack.append(char)\n",
    "        elif char in bracket_map.keys(): \n",
    "            if not stack or stack[-1] != bracket_map[char]:\n",
    "                return False\n",
    "            stack.pop()\n",
    "    \n",
    "    return not stack \n",
    "\n",
    "# Example usage\n",
    "input_string = \"()[]{}\"\n",
    "result = is_valid(input_string)\n",
    "print(result)  \n"
   ]
  },
  {
   "cell_type": "code",
   "execution_count": 25,
   "id": "52e54520",
   "metadata": {},
   "outputs": [
    {
     "name": "stdout",
     "output_type": "stream",
     "text": [
      "4193\n"
     ]
    }
   ],
   "source": [
    "#Q8. Implement the function atoi which converts a string to an integer.\n",
    "   #- Input: \"4193 with words\"\n",
    "\n",
    "\n",
    "\n",
    "def my_atoi(s: str) -> int:\n",
    "    s = s.strip()  \n",
    "    if not s:\n",
    "        return 0\n",
    "\n",
    "    sign = 1\n",
    "    index = 0\n",
    "    result = 0\n",
    "    INT_MAX = 2**31 - 1\n",
    "    INT_MIN = -2**31\n",
    "\n",
    "   \n",
    "    if s[index] in ['+', '-']:\n",
    "        sign = -1 if s[index] == '-' else 1\n",
    "        index += 1\n",
    "\n",
    "    # Convert digits\n",
    "    while index < len(s) and s[index].isdigit():\n",
    "        digit = int(s[index])\n",
    "        \n",
    "        \n",
    "        if (result > (INT_MAX - digit) // 10):\n",
    "            return INT_MAX if sign == 1 else INT_MIN\n",
    "        \n",
    "        result = result * 10 + digit\n",
    "        index += 1\n",
    "\n",
    "    return sign * result\n",
    "\n",
    "\n",
    "input_string = \"4193 with words\"\n",
    "result = my_atoi(input_string)\n",
    "print(result)  # Output: 4193\n"
   ]
  },
  {
   "cell_type": "code",
   "execution_count": 26,
   "id": "08f182d6",
   "metadata": {},
   "outputs": [
    {
     "name": "stdout",
     "output_type": "stream",
     "text": [
      "1211\n"
     ]
    }
   ],
   "source": [
    "#Q9Write a function that generates the nth term of the \"count and say\" sequence.\n",
    "  # - Input: n = 4\n",
    "\n",
    "\n",
    "def count_and_say(n: int) -> str:\n",
    "    if n == 1:\n",
    "        return \"1\"\n",
    "\n",
    "    prev_term = \"1\"\n",
    "\n",
    "    for _ in range(1, n):\n",
    "        count = 1\n",
    "        next_term = []\n",
    "        \n",
    "        for j in range(1, len(prev_term)):\n",
    "            if prev_term[j] == prev_term[j - 1]:\n",
    "                count += 1\n",
    "            else:\n",
    "                next_term.append(str(count))\n",
    "                next_term.append(prev_term[j - 1])\n",
    "                count = 1\n",
    "\n",
    "        # Append the last counted element\n",
    "        next_term.append(str(count))\n",
    "        next_term.append(prev_term[-1])\n",
    "\n",
    "        prev_term = ''.join(next_term)\n",
    "\n",
    "    return prev_term\n",
    "\n",
    "# Example usage\n",
    "n = 4\n",
    "result = count_and_say(n)\n",
    "print(result)  # Output: \"1211\"\n"
   ]
  },
  {
   "cell_type": "code",
   "execution_count": 27,
   "id": "4e87897b",
   "metadata": {},
   "outputs": [
    {
     "name": "stdout",
     "output_type": "stream",
     "text": [
      "BANC\n"
     ]
    }
   ],
   "source": [
    "#Q10 Given two strings s and t, return the minimum window in s which will contain all the characters in t.\n",
    "   #- Input: s = \"ADOBECODEBANC\", t = \"ABC\"\n",
    "\n",
    "\n",
    "from collections import Counter, defaultdict\n",
    "\n",
    "def min_window(s: str, t: str) -> str:\n",
    "    if not t or not s:\n",
    "        return \"\"\n",
    "\n",
    "    dict_t = Counter(t)\n",
    "    required = len(dict_t)\n",
    "    \n",
    "    l, r = 0, 0\n",
    "    formed = 0\n",
    "    window_counts = defaultdict(int)\n",
    "    min_len = float(\"inf\")\n",
    "    min_window = (0, 0)  # Left and right pointer of the minimum window\n",
    "\n",
    "    while r < len(s):\n",
    "        character = s[r]\n",
    "        window_counts[character] += 1\n",
    "        \n",
    "        if character in dict_t and window_counts[character] == dict_t[character]:\n",
    "            formed += 1\n",
    "        \n",
    "        while l <= r and formed == required:\n",
    "            character = s[l]\n",
    "\n",
    "            # Save the smallest window and update the minimum length\n",
    "            if r - l + 1 < min_len:\n",
    "                min_len = r - l + 1\n",
    "                min_window = (l, r)\n",
    "\n",
    "            window_counts[character] -= 1\n",
    "            if character in dict_t and window_counts[character] < dict_t[character]:\n",
    "                formed -= 1\n",
    "            \n",
    "            l += 1\n",
    "\n",
    "        r += 1\n",
    "\n",
    "    return \"\" if min_len == float(\"inf\") else s[min_window[0]:min_window[1] + 1]\n",
    "\n",
    "# Example usage\n",
    "s = \"ADOBECODEBANC\"\n",
    "t = \"ABC\"\n",
    "result = min_window(s, t)\n",
    "print(result)  # Output: \"BANC\"\n"
   ]
  },
  {
   "cell_type": "code",
   "execution_count": 28,
   "id": "c8843fb1",
   "metadata": {},
   "outputs": [
    {
     "name": "stdout",
     "output_type": "stream",
     "text": [
      "3\n"
     ]
    }
   ],
   "source": [
    "#Q11 . Given a string, find the length of the longest substring without repeating characters.\n",
    "  # - Input: \"abcabcbb\"\n",
    "\n",
    "\n",
    "def length_of_longest_substring(s: str) -> int:\n",
    "    char_index = {}\n",
    "    left = 0\n",
    "    max_length = 0\n",
    "\n",
    "    for right in range(len(s)):\n",
    "        if s[right] in char_index:\n",
    "            left = max(left, char_index[s[right]] + 1)\n",
    "        \n",
    "        char_index[s[right]] = right\n",
    "        max_length = max(max_length, right - left + 1)\n",
    "\n",
    "    return max_length\n",
    "\n",
    "\n",
    "input_string = \"abcabcbb\"\n",
    "result = length_of_longest_substring(input_string)\n",
    "print(result)  # Output: 3\n"
   ]
  },
  {
   "cell_type": "code",
   "execution_count": 1,
   "id": "ecd06037",
   "metadata": {},
   "outputs": [
    {
     "name": "stdout",
     "output_type": "stream",
     "text": [
      "True\n"
     ]
    }
   ],
   "source": [
    "#Q12 Given three strings s1, s2, and s3, determine if s3 is formed by the interleaving of s1 and s2.\n",
    "  # - Input: s1 = \"aabcc\", s2 = \"dbbca\", s3 = \"aadbbcbcac\"\n",
    "\n",
    "\n",
    "def isInterleave(s1: str, s2: str, s3: str) -> bool:\n",
    "    if len(s1) + len(s2) != len(s3):\n",
    "        return False\n",
    "\n",
    "    dp = [[False] * (len(s2) + 1) for _ in range(len(s1) + 1)]\n",
    "    dp[0][0] = True\n",
    "\n",
    "    for j in range(1, len(s2) + 1):\n",
    "        dp[0][j] = dp[0][j - 1] and s2[j - 1] == s3[j - 1]\n",
    "\n",
    "    for i in range(1, len(s1) + 1):\n",
    "        dp[i][0] = dp[i - 1][0] and s1[i - 1] == s3[i - 1]\n",
    "\n",
    "    for i in range(1, len(s1) + 1):\n",
    "        for j in range(1, len(s2) + 1):\n",
    "            if s1[i - 1] == s3[i + j - 1]:\n",
    "                dp[i][j] = dp[i][j] or dp[i - 1][j]\n",
    "            if s2[j - 1] == s3[i + j - 1]:\n",
    "                dp[i][j] = dp[i][j] or dp[i][j - 1]\n",
    "\n",
    "    return dp[len(s1)][len(s2)]\n",
    "\n",
    "s1 = \"aabcc\"\n",
    "s2 = \"dbbca\"\n",
    "s3 = \"aadbbcbcac\"\n",
    "print(isInterleave(s1, s2, s3))\n"
   ]
  },
  {
   "cell_type": "code",
   "execution_count": 2,
   "id": "0dd8802e",
   "metadata": {},
   "outputs": [
    {
     "name": "stdout",
     "output_type": "stream",
     "text": [
      "1994\n"
     ]
    }
   ],
   "source": [
    "#Q13Write a function to convert a Roman numeral to an integer.\n",
    "   #- Input: \"MCMXCIV\"\n",
    "\n",
    "\n",
    "def romanToInt(s: str) -> int:\n",
    "    roman_map = {'I': 1, 'V': 5, 'X': 10, 'L': 50, 'C': 100, 'D': 500, 'M': 1000}\n",
    "    total = 0\n",
    "    prev_value = 0\n",
    "\n",
    "    for char in reversed(s):\n",
    "        value = roman_map[char]\n",
    "        if value < prev_value:\n",
    "            total -= value\n",
    "        else:\n",
    "            total += value\n",
    "        prev_value = value\n",
    "\n",
    "    return total\n",
    "\n",
    "# Example usage:\n",
    "s = \"MCMXCIV\"\n",
    "print(romanToInt(s))  \n"
   ]
  },
  {
   "cell_type": "code",
   "execution_count": 3,
   "id": "de1378cf",
   "metadata": {},
   "outputs": [
    {
     "name": "stdout",
     "output_type": "stream",
     "text": [
      "BABC\n"
     ]
    }
   ],
   "source": [
    "#Q14 Find the longest common substring between two strings.\n",
    "   #- Input: str1 = \"ABABC\", str2 = \"BABCA\"\n",
    "\n",
    "def wordBreak(s: str, wordDict: list) -> bool:\n",
    "    word_set = set(wordDict)\n",
    "    dp = [False] * (len(s) + 1)\n",
    "    dp[0] = True\n",
    "\n",
    "    for i in range(1, len(s) + 1):\n",
    "        for j in range(i):\n",
    "            if dp[j] and s[j:i] in word_set:\n",
    "                dp[i] = True\n",
    "                break\n",
    "\n",
    "    return dp[len(s)]\n",
    "\n",
    "# Example usage:\n",
    "s = \"leetcode\"\n",
    "wordDict = [\"leet\", \"code\"]\n",
    "print(wordBreak(s, wordDict))  # Output: True\n",
    "\n"
   ]
  },
  {
   "cell_type": "code",
   "execution_count": 4,
   "id": "b9447ea0",
   "metadata": {},
   "outputs": [
    {
     "name": "stdout",
     "output_type": "stream",
     "text": [
      "True\n"
     ]
    }
   ],
   "source": [
    "Given # Q15string s and a dictionary of words, check if s can be segmented into a space-separated sequence of one or more dictionary words.\n",
    "\n",
    "def wordBreak(s: str, wordDict: list) -> bool:\n",
    "    word_set = set(wordDict)\n",
    "    dp = [False] * (len(s) + 1)\n",
    "    dp[0] = True\n",
    "\n",
    "    for i in range(1, len(s) + 1):\n",
    "        for j in range(i):\n",
    "            if dp[j] and s[j:i] in word_set:\n",
    "                dp[i] = True\n",
    "                break\n",
    "\n",
    "    return dp[len(s)]\n",
    "\n",
    "# Example usage:\n",
    "wordDict = [\"leet\", \"code\"]\n",
    "print(wordBreak(s, wordDict))  \n",
    "\n",
    "s = \"leetcode\""
   ]
  },
  {
   "cell_type": "code",
   "execution_count": 5,
   "id": "31ca23b9",
   "metadata": {},
   "outputs": [
    {
     "ename": "IndentationError",
     "evalue": "unexpected indent (3214185228.py, line 4)",
     "output_type": "error",
     "traceback": [
      "\u001b[1;36m  File \u001b[1;32m\"C:\\Users\\user\\AppData\\Local\\Temp\\ipykernel_13836\\3214185228.py\"\u001b[1;36m, line \u001b[1;32m4\u001b[0m\n\u001b[1;33m    from collections import deque\u001b[0m\n\u001b[1;37m    ^\u001b[0m\n\u001b[1;31mIndentationError\u001b[0m\u001b[1;31m:\u001b[0m unexpected indent\n"
     ]
    }
   ],
   "source": []
  },
  {
   "cell_type": "code",
   "execution_count": 6,
   "id": "3eba1584",
   "metadata": {},
   "outputs": [
    {
     "name": "stdout",
     "output_type": "stream",
     "text": [
      "['(())()', '()()()']\n"
     ]
    }
   ],
   "source": [
    "#Q16 Remove the minimum number of invalid parentheses to make the input string valid. Return all possible results.\n",
    "  # - Input: \"()())()\"\n",
    "\n",
    "\n",
    "\n",
    "from collections import deque\n",
    "\n",
    "def removeInvalidParentheses(s: str):\n",
    "    def isValid(string):\n",
    "        count = 0\n",
    "        for char in string:\n",
    "            if char == '(':\n",
    "                count += 1\n",
    "            elif char == ')':\n",
    "                count -= 1\n",
    "            if count < 0:\n",
    "                return False\n",
    "        return count == 0\n",
    "\n",
    "    result = []\n",
    "    visited = set([s])\n",
    "    queue = deque([s])\n",
    "    found = False\n",
    "\n",
    "    while queue:\n",
    "        current = queue.popleft()\n",
    "\n",
    "        if isValid(current):\n",
    "            result.append(current)\n",
    "            found = True\n",
    "\n",
    "        if found:\n",
    "            continue\n",
    "\n",
    "        for i in range(len(current)):\n",
    "            if current[i] not in ('(', ')'):\n",
    "                continue\n",
    "            next_str = current[:i] + current[i+1:]\n",
    "            if next_str not in visited:\n",
    "                visited.add(next_str)\n",
    "                queue.append(next_str)\n",
    "\n",
    "    return result\n",
    "\n",
    "# Example usage:\n",
    "s = \"()())()\"\n",
    "print(removeInvalidParentheses(s))  # Output: [\"()()()\", \"(())()\"]\n"
   ]
  },
  {
   "cell_type": "code",
   "execution_count": null,
   "id": "990f93d1",
   "metadata": {},
   "outputs": [],
   "source": []
  }
 ],
 "metadata": {
  "kernelspec": {
   "display_name": "Python 3 (ipykernel)",
   "language": "python",
   "name": "python3"
  },
  "language_info": {
   "codemirror_mode": {
    "name": "ipython",
    "version": 3
   },
   "file_extension": ".py",
   "mimetype": "text/x-python",
   "name": "python",
   "nbconvert_exporter": "python",
   "pygments_lexer": "ipython3",
   "version": "3.9.13"
  }
 },
 "nbformat": 4,
 "nbformat_minor": 5
}
